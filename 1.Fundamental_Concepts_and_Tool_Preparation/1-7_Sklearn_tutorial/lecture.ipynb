{
 "cells": [
  {
   "cell_type": "markdown",
   "id": "a206c153",
   "metadata": {},
   "source": [
    "## 读取数据并进行预处理"
   ]
  },
  {
   "cell_type": "code",
   "execution_count": 19,
   "id": "03efd58d",
   "metadata": {},
   "outputs": [
    {
     "name": "stdout",
     "output_type": "stream",
     "text": [
      "特征数据形状：(150, 4)，标签数据形状：(150,)\n",
      "特征数据类型：float64，标签数据类型：int64\n",
      "前5个样本的特征数据：[[5.1 3.5 1.4 0.2]\n",
      " [4.9 3.  1.4 0.2]\n",
      " [4.7 3.2 1.3 0.2]\n",
      " [4.6 3.1 1.5 0.2]\n",
      " [5.  3.6 1.4 0.2]]，前5个样本的标签：[0 0 0 0 0]\n",
      "特征名称：['sepal length (cm)', 'sepal width (cm)', 'petal length (cm)', 'petal width (cm)']，\n",
      "标签名称：['setosa' 'versicolor' 'virginica']\n",
      "训练集形状：X_train: (120, 4), y_train: (120,)\n",
      "测试集形状：X_test: (30, 4), y_test: (30,)\n"
     ]
    }
   ],
   "source": [
    "from sklearn.datasets import load_iris\n",
    "data = load_iris()\n",
    "X, y = data.data, data.target\n",
    "# 展示数据集的形状以及数据类型\n",
    "print(f\"特征数据形状：{X.shape}，标签数据形状：{y.shape}\")\n",
    "print(f\"特征数据类型：{X.dtype}，标签数据类型：{y.dtype}\")\n",
    "\n",
    "# 展示前5个样本的特征数据和标签\n",
    "print(f\"前5个样本的特征数据：{X[:5]}，前5个样本的标签：{y[0:5]}\")\n",
    "\n",
    "# 展示特征名和标签名\n",
    "print(f\"特征名称：{data.feature_names}，\\n标签名称：{data.target_names}\")\n",
    "\n",
    "# 划分数据集\n",
    "from sklearn.model_selection import train_test_split\n",
    "X_train, X_test, y_train, y_test = train_test_split(X, y, test_size=0.2, random_state=42)\n",
    "print(f\"训练集形状：X_train: {X_train.shape}, y_train: {y_train.shape}\")\n",
    "print(f\"测试集形状：X_test: {X_test.shape}, y_test: {y_test.shape}\")\n"
   ]
  },
  {
   "cell_type": "markdown",
   "id": "13b6b93b",
   "metadata": {},
   "source": [
    "## 模型选择"
   ]
  },
  {
   "cell_type": "code",
   "execution_count": 17,
   "id": "5ddd7eee",
   "metadata": {},
   "outputs": [
    {
     "name": "stdout",
     "output_type": "stream",
     "text": [
      "模型的超参数：{'bootstrap': True, 'ccp_alpha': 0.0, 'class_weight': None, 'criterion': 'gini', 'max_depth': None, 'max_features': 'sqrt', 'max_leaf_nodes': None, 'max_samples': None, 'min_impurity_decrease': 0.0, 'min_samples_leaf': 1, 'min_samples_split': 2, 'min_weight_fraction_leaf': 0.0, 'monotonic_cst': None, 'n_estimators': 100, 'n_jobs': None, 'oob_score': False, 'random_state': None, 'verbose': 0, 'warm_start': False}\n"
     ]
    }
   ],
   "source": [
    "from sklearn.ensemble import RandomForestClassifier\n",
    "model = RandomForestClassifier()\n",
    "print(f\"模型的超参数：{model.get_params()}\")"
   ]
  },
  {
   "cell_type": "markdown",
   "id": "e58e74f2",
   "metadata": {},
   "source": [
    "## 训练与预测"
   ]
  },
  {
   "cell_type": "code",
   "execution_count": 20,
   "id": "c3e5622a",
   "metadata": {},
   "outputs": [
    {
     "name": "stdout",
     "output_type": "stream",
     "text": [
      "[1 0 2 1 1]\n"
     ]
    }
   ],
   "source": [
    "# 训练模型\n",
    "model.fit(X_train, y_train)\n",
    "\n",
    "# 预测\n",
    "y_pred = model.predict(X_test)\n",
    "print(y_pred[:5])  # 打印前5个预测结果"
   ]
  },
  {
   "cell_type": "markdown",
   "id": "f9118e1f",
   "metadata": {},
   "source": [
    "## 评估"
   ]
  },
  {
   "cell_type": "code",
   "execution_count": null,
   "id": "81a4c055",
   "metadata": {},
   "outputs": [],
   "source": [
    "from sklearn.metrics import accuracy_score\n",
    "\n",
    "print(\"Accuracy:\", accuracy_score(y_test, y_pred))"
   ]
  }
 ],
 "metadata": {
  "kernelspec": {
   "display_name": "ml-dl-fullstack-guide",
   "language": "python",
   "name": "python3"
  },
  "language_info": {
   "codemirror_mode": {
    "name": "ipython",
    "version": 3
   },
   "file_extension": ".py",
   "mimetype": "text/x-python",
   "name": "python",
   "nbconvert_exporter": "python",
   "pygments_lexer": "ipython3",
   "version": "3.13.5"
  }
 },
 "nbformat": 4,
 "nbformat_minor": 5
}
